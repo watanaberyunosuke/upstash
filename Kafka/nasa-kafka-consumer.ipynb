{
 "cells": [
  {
   "cell_type": "code",
   "execution_count": 2,
   "metadata": {},
   "outputs": [],
   "source": [
    "from dotenv import load_dotenv\n",
    "import os\n",
    "\n",
    "load_dotenv()\n",
    "\n",
    "NASA_KAFKA_CLIENT_ID = os.getenv(\"NASA_KAFKA_CLIENT_ID\")\n",
    "NASA_KAFKA_CLIENT_SECRET = os.getenv(\"NASA_KAFKA_CLIENT_SECRET\")"
   ]
  },
  {
   "cell_type": "code",
   "execution_count": 4,
   "metadata": {},
   "outputs": [
    {
     "ename": "KeyboardInterrupt",
     "evalue": "",
     "output_type": "error",
     "traceback": [
      "\u001b[0;31m---------------------------------------------------------------------------\u001b[0m",
      "\u001b[0;31mKeyboardInterrupt\u001b[0m                         Traceback (most recent call last)",
      "Cell \u001b[0;32mIn[4], line 16\u001b[0m\n\u001b[1;32m      9\u001b[0m consumer\u001b[38;5;241m.\u001b[39msubscribe([\u001b[38;5;124m'\u001b[39m\u001b[38;5;124mgcn.classic.text.CALET_GBM_FLT_LC\u001b[39m\u001b[38;5;124m'\u001b[39m,\n\u001b[1;32m     10\u001b[0m                     \u001b[38;5;66;03m# 'gcn.classic.text.CALET_GBM_GND_LC',\u001b[39;00m\n\u001b[1;32m     11\u001b[0m                     \u001b[38;5;124m'\u001b[39m\u001b[38;5;124mgcn.classic.text.MAXI_KNOWN\u001b[39m\u001b[38;5;124m'\u001b[39m,\n\u001b[1;32m     12\u001b[0m                     \u001b[38;5;124m'\u001b[39m\u001b[38;5;124mgcn.classic.text.MAXI_TEST\u001b[39m\u001b[38;5;124m'\u001b[39m,\n\u001b[1;32m     13\u001b[0m                     \u001b[38;5;124m'\u001b[39m\u001b[38;5;124mgcn.classic.text.MAXI_UNKNOWN\u001b[39m\u001b[38;5;124m'\u001b[39m,\n\u001b[1;32m     14\u001b[0m                     \u001b[38;5;124m'\u001b[39m\u001b[38;5;124mgcn.classic.text.SNEWS\u001b[39m\u001b[38;5;124m'\u001b[39m])\n\u001b[1;32m     15\u001b[0m \u001b[38;5;28;01mwhile\u001b[39;00m \u001b[38;5;28;01mTrue\u001b[39;00m:\n\u001b[0;32m---> 16\u001b[0m     \u001b[38;5;28;01mfor\u001b[39;00m message \u001b[38;5;129;01min\u001b[39;00m \u001b[43mconsumer\u001b[49m\u001b[38;5;241;43m.\u001b[39;49m\u001b[43mconsume\u001b[49m\u001b[43m(\u001b[49m\u001b[43mtimeout\u001b[49m\u001b[38;5;241;43m=\u001b[39;49m\u001b[38;5;241;43m1\u001b[39;49m\u001b[43m)\u001b[49m:\n\u001b[1;32m     17\u001b[0m         \u001b[38;5;28;01mif\u001b[39;00m message\u001b[38;5;241m.\u001b[39merror():\n\u001b[1;32m     18\u001b[0m             \u001b[38;5;28mprint\u001b[39m(message\u001b[38;5;241m.\u001b[39merror())\n",
      "\u001b[0;31mKeyboardInterrupt\u001b[0m: "
     ]
    }
   ],
   "source": [
    "from gcn_kafka import Consumer\n",
    "\n",
    "# Connect as a consumer (client \"default\")\n",
    "consumer = Consumer(client_id=NASA_KAFKA_CLIENT_ID,\n",
    "                    client_secret=NASA_KAFKA_CLIENT_SECRET)\n",
    "\n",
    "# Subscribe to topics and receive alerts\n",
    "consumer.subscribe(['gcn.classic.text.CALET_GBM_FLT_LC',\n",
    "                    # 'gcn.classic.text.CALET_GBM_GND_LC',\n",
    "                    'gcn.classic.text.MAXI_KNOWN',\n",
    "                    'gcn.classic.text.MAXI_TEST',\n",
    "                    'gcn.classic.text.MAXI_UNKNOWN',\n",
    "                    'gcn.classic.text.SNEWS'])\n",
    "while True:\n",
    "    for message in consumer.consume(timeout=1):\n",
    "        if message.error():\n",
    "            print(message.error())\n",
    "            continue\n",
    "        # Print the topic and message ID\n",
    "        print(f'topic={message.topic()}, offset={message.offset()}')\n",
    "        value = message.value()\n",
    "        print(value)"
   ]
  }
 ],
 "metadata": {
  "kernelspec": {
   "display_name": "streaming",
   "language": "python",
   "name": "python3"
  },
  "language_info": {
   "codemirror_mode": {
    "name": "ipython",
    "version": 3
   },
   "file_extension": ".py",
   "mimetype": "text/x-python",
   "name": "python",
   "nbconvert_exporter": "python",
   "pygments_lexer": "ipython3",
   "version": "3.9.0"
  }
 },
 "nbformat": 4,
 "nbformat_minor": 2
}
