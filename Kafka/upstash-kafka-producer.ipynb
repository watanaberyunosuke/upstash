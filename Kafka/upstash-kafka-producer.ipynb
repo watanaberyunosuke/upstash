{
 "cells": [
  {
   "cell_type": "code",
   "outputs": [],
   "source": [
    "from dotenv import load_dotenv\n",
    "import os\n",
    "load_dotenv()\n",
    "\n",
    "SCHEMA_REGISTRY = os.getenv(\"SCHEMA_REGISTRY\")\n",
    "BOOTSTRAP_SERVER = os.getenv(\"BOOTSTRAP_SERVER\")\n",
    "USERNAME = os.getenv(\"USERNAME\")\n",
    "PASSWORD = os.getenv(\"PASSWORD\")"
   ],
   "metadata": {
    "collapsed": false,
    "ExecuteTime": {
     "end_time": "2024-04-07T10:41:24.298329Z",
     "start_time": "2024-04-07T10:41:24.286987Z"
    }
   },
   "id": "1e876335e448863a",
   "execution_count": 51
  },
  {
   "cell_type": "code",
   "outputs": [
    {
     "data": {
      "text/plain": "<IPython.core.display.Markdown object>",
      "text/markdown": "Producer with schema registry\n"
     },
     "metadata": {},
     "output_type": "display_data"
    }
   ],
   "source": [
    "%%markdown\n",
    "Producer with schema registry"
   ],
   "metadata": {
    "collapsed": false,
    "ExecuteTime": {
     "end_time": "2024-04-07T08:40:30.638626Z",
     "start_time": "2024-04-07T08:40:30.631054Z"
    }
   },
   "id": "6df457dd716c7d5f",
   "execution_count": 11
  },
  {
   "cell_type": "code",
   "outputs": [
    {
     "name": "stdout",
     "output_type": "stream",
     "text": [
      "Message sent successfully\n"
     ]
    }
   ],
   "source": [
    "import uuid\n",
    "import random\n",
    "\n",
    "from confluent_kafka import Producer\n",
    "from confluent_kafka.serialization import StringSerializer, SerializationContext, MessageField\n",
    "from confluent_kafka.schema_registry import SchemaRegistryClient\n",
    "from confluent_kafka.schema_registry.avro import AvroSerializer\n",
    "\n",
    "schema = \"\"\"{\n",
    "\"type\": \"record\",\n",
    "\"name\": \"User\",\n",
    "\"namespace\": \"com.upstash\",\n",
    "\"fields\": [\n",
    "    {\"name\": \"name\", \"type\": \"string\"},\n",
    "    {\"name\": \"favorite_number\", \"type\": \"long\"}\n",
    "]\n",
    "}\n",
    "\"\"\"\n",
    "\n",
    "schema_registry_client = SchemaRegistryClient({\n",
    "    'url': SCHEMA_REGISTRY,\n",
    "    'basic.auth.user.info': USERNAME + \":\" + PASSWORD\n",
    "})\n",
    "\n",
    "avro_serializer = AvroSerializer(schema_registry_client, schema)\n",
    "\n",
    "string_serializer = StringSerializer('utf_8')\n",
    "\n",
    "producer = Producer({'bootstrap.servers':BOOTSTRAP_SERVER,\n",
    "    'sasl.mechanism':'SCRAM-SHA-256',\n",
    "    'security.protocol':'SASL_SSL',\n",
    "    'sasl.username':USERNAME,\n",
    "    'sasl.password':PASSWORD\n",
    "})\n",
    "\n",
    "user = dict(name=\"user\", favorite_number=random.randint(0, 100))\n",
    "producer.produce(topic=\"default-topic\",\n",
    "                key=string_serializer(str(uuid.uuid4())),\n",
    "                value=avro_serializer(user, SerializationContext(\"default-topic\", MessageField.VALUE)))\n",
    "\n",
    "producer.flush()\n",
    "print(\"Message sent successfully\")"
   ],
   "metadata": {
    "collapsed": false,
    "ExecuteTime": {
     "end_time": "2024-04-07T10:44:49.600874Z",
     "start_time": "2024-04-07T10:44:45.001497Z"
    }
   },
   "id": "49d1214a2a3ae013",
   "execution_count": 54
  },
  {
   "cell_type": "markdown",
   "source": [
    "Producer"
   ],
   "metadata": {
    "collapsed": false
   },
   "id": "3c69370a7a0a4a3"
  },
  {
   "cell_type": "code",
   "execution_count": 53,
   "id": "initial_id",
   "metadata": {
    "collapsed": true,
    "ExecuteTime": {
     "end_time": "2024-04-07T10:43:02.128970Z",
     "start_time": "2024-04-07T10:42:58.262567Z"
    }
   },
   "outputs": [
    {
     "name": "stdout",
     "output_type": "stream",
     "text": [
      "Message produced without Avro schema!\n"
     ]
    }
   ],
   "source": [
    "from kafka import KafkaProducer\n",
    "\n",
    "producer = KafkaProducer(\n",
    "    bootstrap_servers=BOOTSTRAP_SERVER,\n",
    "    sasl_mechanism='SCRAM-SHA-256',\n",
    "    security_protocol='SASL_SSL',\n",
    "    sasl_plain_username=USERNAME,\n",
    "    sasl_plain_password=PASSWORD\n",
    ")\n",
    "\n",
    "try:\n",
    "    producer.send('default-topic', b'Hello from python')\n",
    "    producer.flush()\n",
    "    print(\"Message produced without Avro schema!\")\n",
    "except Exception as e:\n",
    "    print(f\"Error producing message: {e}\")\n",
    "finally:\n",
    "    producer.close()"
   ]
  },
  {
   "cell_type": "code",
   "outputs": [],
   "source": [],
   "metadata": {
    "collapsed": false,
    "ExecuteTime": {
     "end_time": "2024-04-07T08:33:41.829360Z",
     "start_time": "2024-04-07T08:33:12.804031Z"
    }
   },
   "id": "2972b7c5f14f55c4",
   "execution_count": 7
  },
  {
   "cell_type": "code",
   "outputs": [],
   "source": [],
   "metadata": {
    "collapsed": false
   },
   "id": "a075ad6887101462"
  }
 ],
 "metadata": {
  "kernelspec": {
   "display_name": "Python 3",
   "language": "python",
   "name": "python3"
  },
  "language_info": {
   "codemirror_mode": {
    "name": "ipython",
    "version": 2
   },
   "file_extension": ".py",
   "mimetype": "text/x-python",
   "name": "python",
   "nbconvert_exporter": "python",
   "pygments_lexer": "ipython2",
   "version": "2.7.6"
  }
 },
 "nbformat": 4,
 "nbformat_minor": 5
}
