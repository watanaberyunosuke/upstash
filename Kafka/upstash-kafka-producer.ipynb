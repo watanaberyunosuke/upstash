{
 "cells": [
  {
   "cell_type": "code",
   "execution_count": 1,
   "id": "1e876335e448863a",
   "metadata": {
    "ExecuteTime": {
     "end_time": "2024-06-16T03:40:57.851441Z",
     "start_time": "2024-06-16T03:40:57.837858Z"
    },
    "collapsed": false
   },
   "outputs": [],
   "source": [
    "from dotenv import load_dotenv\n",
    "import os\n",
    "load_dotenv()\n",
    "\n",
    "SCHEMA_REGISTRY = os.getenv(\"SCHEMA_REGISTRY\")\n",
    "BOOTSTRAP_SERVER = os.getenv(\"BOOTSTRAP_SERVER\")\n",
    "USERNAME = os.getenv(\"USERNAME\")\n",
    "PASSWORD = os.getenv(\"PASSWORD\")"
   ]
  },
  {
   "cell_type": "code",
   "execution_count": 2,
   "id": "6df457dd716c7d5f",
   "metadata": {
    "ExecuteTime": {
     "end_time": "2024-06-16T03:40:57.857340Z",
     "start_time": "2024-06-16T03:40:57.852236Z"
    },
    "collapsed": false
   },
   "outputs": [
    {
     "data": {
      "text/markdown": [
       "Producer with schema registry\n"
      ],
      "text/plain": [
       "<IPython.core.display.Markdown object>"
      ]
     },
     "metadata": {},
     "output_type": "display_data"
    }
   ],
   "source": [
    "%%markdown\n",
    "Producer with schema registry"
   ]
  },
  {
   "cell_type": "code",
   "execution_count": 3,
   "id": "49d1214a2a3ae013",
   "metadata": {
    "ExecuteTime": {
     "end_time": "2024-06-16T03:41:02.505950Z",
     "start_time": "2024-06-16T03:40:57.859517Z"
    },
    "collapsed": false
   },
   "outputs": [
    {
     "name": "stdout",
     "output_type": "stream",
     "text": [
      "Message sent successfully\n"
     ]
    }
   ],
   "source": [
    "import uuid\n",
    "import random\n",
    "\n",
    "from confluent_kafka import Producer\n",
    "from confluent_kafka.serialization import StringSerializer, SerializationContext, MessageField\n",
    "from confluent_kafka.schema_registry import SchemaRegistryClient\n",
    "from confluent_kafka.schema_registry.avro import AvroSerializer\n",
    "\n",
    "schema = \"\"\"{\n",
    "\"type\": \"record\",\n",
    "\"name\": \"User\",\n",
    "\"namespace\": \"com.upstash\",\n",
    "\"fields\": [\n",
    "    {\"name\": \"name\", \"type\": \"string\"},\n",
    "    {\"name\": \"favorite_number\", \"type\": \"long\"}\n",
    "]\n",
    "}\n",
    "\"\"\"\n",
    "\n",
    "schema_registry_client = SchemaRegistryClient({\n",
    "    'url': SCHEMA_REGISTRY,\n",
    "    'basic.auth.user.info': USERNAME + \":\" + PASSWORD\n",
    "})\n",
    "\n",
    "avro_serializer = AvroSerializer(schema_registry_client, schema)\n",
    "\n",
    "string_serializer = StringSerializer('utf_8')\n",
    "\n",
    "producer = Producer({'bootstrap.servers':BOOTSTRAP_SERVER,\n",
    "    'sasl.mechanism':'SCRAM-SHA-256',\n",
    "    'security.protocol':'SASL_SSL',\n",
    "    'sasl.username':USERNAME,\n",
    "    'sasl.password':PASSWORD\n",
    "})\n",
    "\n",
    "user = dict(name=\"user\", favorite_number=random.randint(0, 100))\n",
    "producer.produce(topic=\"default-topic\",\n",
    "                key=string_serializer(str(uuid.uuid4())),\n",
    "                value=avro_serializer(user, SerializationContext(\"default-topic\", MessageField.VALUE)))\n",
    "\n",
    "producer.flush()\n",
    "print(\"Message sent successfully\")"
   ]
  },
  {
   "cell_type": "markdown",
   "id": "3c69370a7a0a4a3",
   "metadata": {
    "collapsed": false
   },
   "source": [
    "Producer"
   ]
  },
  {
   "cell_type": "code",
   "execution_count": 4,
   "id": "initial_id",
   "metadata": {
    "ExecuteTime": {
     "end_time": "2024-06-16T03:41:06.884676Z",
     "start_time": "2024-06-16T03:41:02.506768Z"
    },
    "collapsed": true
   },
   "outputs": [
    {
     "ename": "SyntaxError",
     "evalue": "invalid syntax (simple.py, line 54)",
     "output_type": "error",
     "traceback": [
      "Traceback \u001b[0;36m(most recent call last)\u001b[0m:\n",
      "\u001b[0m  File \u001b[1;32m/opt/homebrew/Caskroom/miniconda/base/envs/streaming/lib/python3.9/site-packages/IPython/core/interactiveshell.py:3550\u001b[0m in \u001b[1;35mrun_code\u001b[0m\n    exec(code_obj, self.user_global_ns, self.user_ns)\u001b[0m\n",
      "\u001b[0m  Cell \u001b[1;32mIn[4], line 1\u001b[0m\n    from kafka import KafkaProducer\u001b[0m\n",
      "\u001b[0m  File \u001b[1;32m/opt/homebrew/Caskroom/miniconda/base/envs/streaming/lib/python3.9/site-packages/kafka/__init__.py:23\u001b[0m\n    from kafka.producer import KafkaProducer\u001b[0m\n",
      "\u001b[0;36m  File \u001b[0;32m/opt/homebrew/Caskroom/miniconda/base/envs/streaming/lib/python3.9/site-packages/kafka/producer/__init__.py:4\u001b[0;36m\n\u001b[0;31m    from .simple import SimpleProducer\u001b[0;36m\n",
      "\u001b[0;36m  File \u001b[0;32m/opt/homebrew/Caskroom/miniconda/base/envs/streaming/lib/python3.9/site-packages/kafka/producer/simple.py:54\u001b[0;36m\u001b[0m\n\u001b[0;31m    return '<SimpleProducer batch=%s>' % self.async\u001b[0m\n\u001b[0m                                              ^\u001b[0m\n\u001b[0;31mSyntaxError\u001b[0m\u001b[0;31m:\u001b[0m invalid syntax\n"
     ]
    }
   ],
   "source": [
    "from kafka import KafkaProducer\n",
    "\n",
    "producer = KafkaProducer(\n",
    "    bootstrap_servers=BOOTSTRAP_SERVER,\n",
    "    sasl_mechanism='SCRAM-SHA-256',\n",
    "    security_protocol='SASL_SSL',\n",
    "    sasl_plain_username=USERNAME,\n",
    "    sasl_plain_password=PASSWORD\n",
    ")\n",
    "\n",
    "try:\n",
    "    producer.send('default-topic', b'Hello from python')\n",
    "    producer.flush()\n",
    "    print(\"Message produced without Avro schema!\")\n",
    "except Exception as e:\n",
    "    print(f\"Error producing message: {e}\")\n",
    "finally:\n",
    "    producer.close()"
   ]
  },
  {
   "cell_type": "code",
   "execution_count": null,
   "id": "2972b7c5f14f55c4",
   "metadata": {
    "ExecuteTime": {
     "end_time": "2024-06-16T03:41:06.888258Z",
     "start_time": "2024-06-16T03:41:06.886374Z"
    },
    "collapsed": false
   },
   "outputs": [],
   "source": []
  },
  {
   "cell_type": "code",
   "execution_count": null,
   "id": "a075ad6887101462",
   "metadata": {
    "ExecuteTime": {
     "end_time": "2024-06-16T03:41:06.891837Z",
     "start_time": "2024-06-16T03:41:06.890142Z"
    },
    "collapsed": false
   },
   "outputs": [],
   "source": []
  }
 ],
 "metadata": {
  "kernelspec": {
   "display_name": "streaming",
   "language": "python",
   "name": "python3"
  },
  "language_info": {
   "codemirror_mode": {
    "name": "ipython",
    "version": 3
   },
   "file_extension": ".py",
   "mimetype": "text/x-python",
   "name": "python",
   "nbconvert_exporter": "python",
   "pygments_lexer": "ipython3",
   "version": "3.9.0"
  }
 },
 "nbformat": 4,
 "nbformat_minor": 5
}
