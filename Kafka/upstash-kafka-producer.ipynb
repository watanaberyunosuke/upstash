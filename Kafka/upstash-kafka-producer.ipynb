{
 "cells": [
  {
   "cell_type": "code",
   "execution_count": 10,
   "id": "1e876335e448863a",
   "metadata": {
    "ExecuteTime": {
     "end_time": "2024-06-16T03:40:57.851441Z",
     "start_time": "2024-06-16T03:40:57.837858Z"
    },
    "collapsed": false
   },
   "outputs": [],
   "source": [
    "from dotenv import load_dotenv\n",
    "import os\n",
    "load_dotenv()\n",
    "\n",
    "SCHEMA_REGISTRY = os.getenv(\"SCHEMA_REGISTRY\")\n",
    "BOOTSTRAP_SERVER = os.getenv(\"BOOTSTRAP_SERVER\")\n",
    "USERNAME = os.getenv(\"USERNAME\")\n",
    "PASSWORD = os.getenv(\"PASSWORD\")"
   ]
  },
  {
   "cell_type": "code",
   "execution_count": 11,
   "id": "6df457dd716c7d5f",
   "metadata": {
    "ExecuteTime": {
     "end_time": "2024-06-16T03:40:57.857340Z",
     "start_time": "2024-06-16T03:40:57.852236Z"
    },
    "collapsed": false
   },
   "outputs": [
    {
     "data": {
      "text/markdown": [
       "Producer with schema registry\n"
      ],
      "text/plain": [
       "<IPython.core.display.Markdown object>"
      ]
     },
     "metadata": {},
     "output_type": "display_data"
    }
   ],
   "source": [
    "%%markdown\n",
    "Producer with schema registry"
   ]
  },
  {
   "cell_type": "code",
   "execution_count": 13,
   "id": "49d1214a2a3ae013",
   "metadata": {
    "ExecuteTime": {
     "end_time": "2024-06-16T03:41:02.505950Z",
     "start_time": "2024-06-16T03:40:57.859517Z"
    },
    "collapsed": false
   },
   "outputs": [
    {
     "name": "stdout",
     "output_type": "stream",
     "text": [
      "Message sent successfully\n"
     ]
    }
   ],
   "source": [
    "import uuid\n",
    "import random\n",
    "\n",
    "from confluent_kafka import Producer\n",
    "from confluent_kafka.serialization import StringSerializer, SerializationContext, MessageField\n",
    "from confluent_kafka.schema_registry import SchemaRegistryClient\n",
    "from confluent_kafka.schema_registry.avro import AvroSerializer\n",
    "\n",
    "schema = \"\"\"{\n",
    "\"type\": \"record\",\n",
    "\"name\": \"User\",\n",
    "\"namespace\": \"com.upstash\",\n",
    "\"fields\": [\n",
    "    {\"name\": \"name\", \"type\": \"string\"},\n",
    "    {\"name\": \"favorite_number\", \"type\": \"long\"}\n",
    "]\n",
    "}\n",
    "\"\"\"\n",
    "\n",
    "schema_registry_client = SchemaRegistryClient({\n",
    "    'url': SCHEMA_REGISTRY,\n",
    "    'basic.auth.user.info': USERNAME + \":\" + PASSWORD\n",
    "})\n",
    "\n",
    "avro_serializer = AvroSerializer(schema_registry_client, schema)\n",
    "\n",
    "string_serializer = StringSerializer('utf_8')\n",
    "\n",
    "producer = Producer({'bootstrap.servers':BOOTSTRAP_SERVER,\n",
    "    'sasl.mechanism':'SCRAM-SHA-256',\n",
    "    'security.protocol':'SASL_SSL',\n",
    "    'sasl.username':USERNAME,\n",
    "    'sasl.password':PASSWORD\n",
    "})\n",
    "\n",
    "user = dict(name=\"user\", favorite_number=random.randint(0, 100))\n",
    "producer.produce(topic=\"default-topic\",\n",
    "                key=string_serializer(str(uuid.uuid4())),\n",
    "                value=avro_serializer(user, SerializationContext(\"default-topic\", MessageField.VALUE)))\n",
    "\n",
    "producer.flush()\n",
    "print(\"Message sent successfully\")"
   ]
  },
  {
   "cell_type": "markdown",
   "id": "3c69370a7a0a4a3",
   "metadata": {
    "collapsed": false
   },
   "source": [
    "Producer"
   ]
  },
  {
   "cell_type": "code",
   "execution_count": null,
   "id": "initial_id",
   "metadata": {
    "ExecuteTime": {
     "end_time": "2024-06-16T03:41:06.884676Z",
     "start_time": "2024-06-16T03:41:02.506768Z"
    },
    "collapsed": true
   },
   "outputs": [
    {
     "ename": "ModuleNotFoundError",
     "evalue": "No module named 'kafka'",
     "output_type": "error",
     "traceback": [
      "\u001b[0;31m---------------------------------------------------------------------------\u001b[0m",
      "\u001b[0;31mModuleNotFoundError\u001b[0m                       Traceback (most recent call last)",
      "Cell \u001b[0;32mIn[20], line 1\u001b[0m\n\u001b[0;32m----> 1\u001b[0m \u001b[38;5;28;01mfrom\u001b[39;00m \u001b[38;5;21;01mkafka\u001b[39;00m \u001b[38;5;28;01mimport\u001b[39;00m KafkaProducer\n\u001b[1;32m      3\u001b[0m producer \u001b[38;5;241m=\u001b[39m KafkaProducer(\n\u001b[1;32m      4\u001b[0m     bootstrap_servers\u001b[38;5;241m=\u001b[39mBOOTSTRAP_SERVER,\n\u001b[1;32m      5\u001b[0m     sasl_mechanism\u001b[38;5;241m=\u001b[39m\u001b[38;5;124m'\u001b[39m\u001b[38;5;124mSCRAM-SHA-256\u001b[39m\u001b[38;5;124m'\u001b[39m,\n\u001b[0;32m   (...)\u001b[0m\n\u001b[1;32m      8\u001b[0m     sasl_plain_password\u001b[38;5;241m=\u001b[39mPASSWORD\n\u001b[1;32m      9\u001b[0m )\n\u001b[1;32m     11\u001b[0m \u001b[38;5;28;01mtry\u001b[39;00m:\n",
      "\u001b[0;31mModuleNotFoundError\u001b[0m: No module named 'kafka'"
     ]
    }
   ],
   "source": [
    "from kafka import KafkaProducer\n",
    "\n",
    "producer = KafkaProducer(\n",
    "    bootstrap_servers=BOOTSTRAP_SERVER,\n",
    "    sasl_mechanism='SCRAM-SHA-256',\n",
    "    security_protocol='SASL_SSL',\n",
    "    sasl_plain_username=USERNAME,\n",
    "    sasl_plain_password=PASSWORD\n",
    ")\n",
    "\n",
    "try:\n",
    "    producer.send('default-topic', b'Hello from python')\n",
    "    producer.flush()\n",
    "    print(\"Message produced without Avro schema!\")\n",
    "except Exception as e:\n",
    "    print(f\"Error producing message: {e}\")\n",
    "finally:\n",
    "    producer.close()"
   ]
  },
  {
   "cell_type": "code",
   "execution_count": null,
   "id": "2972b7c5f14f55c4",
   "metadata": {
    "ExecuteTime": {
     "end_time": "2024-06-16T03:41:06.888258Z",
     "start_time": "2024-06-16T03:41:06.886374Z"
    },
    "collapsed": false
   },
   "outputs": [],
   "source": []
  },
  {
   "cell_type": "code",
   "execution_count": null,
   "id": "a075ad6887101462",
   "metadata": {
    "ExecuteTime": {
     "end_time": "2024-06-16T03:41:06.891837Z",
     "start_time": "2024-06-16T03:41:06.890142Z"
    },
    "collapsed": false
   },
   "outputs": [],
   "source": []
  }
 ],
 "metadata": {
  "kernelspec": {
   "display_name": "Python 3",
   "language": "python",
   "name": "python3"
  },
  "language_info": {
   "codemirror_mode": {
    "name": "ipython",
    "version": 3
   },
   "file_extension": ".py",
   "mimetype": "text/x-python",
   "name": "python",
   "nbconvert_exporter": "python",
   "pygments_lexer": "ipython3",
   "version": "3.9.0"
  }
 },
 "nbformat": 4,
 "nbformat_minor": 5
}
