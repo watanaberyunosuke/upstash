{
 "cells": [
  {
   "cell_type": "code",
   "outputs": [],
   "source": [
    "from dotenv import load_dotenv\n",
    "import os\n",
    "load_dotenv()\n",
    "\n",
    "SCHEMA_REGISTRY = os.getenv(\"SCHEMA_REGISTRY\")\n",
    "BOOTSTRAP_SERVER = os.getenv(\"BOOTSTRAP_SERVER\")\n",
    "USERNAME = os.getenv(\"USERNAME\")\n",
    "PASSWORD = os.getenv(\"PASSWORD\")\n"
   ],
   "metadata": {
    "collapsed": false,
    "ExecuteTime": {
     "end_time": "2024-04-07T10:39:23.898990Z",
     "start_time": "2024-04-07T10:39:23.893336Z"
    }
   },
   "id": "ae1bdbc10230bf4e",
   "execution_count": 34
  },
  {
   "cell_type": "code",
   "execution_count": 35,
   "id": "initial_id",
   "metadata": {
    "collapsed": true,
    "ExecuteTime": {
     "end_time": "2024-04-07T10:39:25.167613Z",
     "start_time": "2024-04-07T10:39:25.162768Z"
    }
   },
   "outputs": [
    {
     "data": {
      "text/plain": "<IPython.core.display.Markdown object>",
      "text/markdown": "\nConsumer with schema registry\n"
     },
     "metadata": {},
     "output_type": "display_data"
    }
   ],
   "source": [
    "%%markdown\n",
    "\n",
    "Consumer with schema registry"
   ]
  },
  {
   "cell_type": "code",
   "outputs": [
    {
     "name": "stdout",
     "output_type": "stream",
     "text": [
      "Key: b'fe307d3a-2f5d-4d22-8762-d093ee36656b', Value: {'name': 'user', 'favorite_number': 25}\n",
      "Deserialization error for message <cimpl.Message object at 0x107924cc0>: Unexpected magic byte 72. This message was not produced with a Confluent Schema Registry serializer\n",
      "Key: b'276a4c63-5ac0-4b19-ad2e-016dd75287ac', Value: {'name': 'user', 'favorite_number': 61}\n"
     ]
    },
    {
     "ename": "KeyboardInterrupt",
     "evalue": "",
     "output_type": "error",
     "traceback": [
      "\u001B[0;31m---------------------------------------------------------------------------\u001B[0m",
      "\u001B[0;31mKeyboardInterrupt\u001B[0m                         Traceback (most recent call last)",
      "Cell \u001B[0;32mIn[37], line 29\u001B[0m\n\u001B[1;32m     27\u001B[0m \u001B[38;5;28;01mtry\u001B[39;00m:\n\u001B[1;32m     28\u001B[0m     \u001B[38;5;28;01mwhile\u001B[39;00m \u001B[38;5;28;01mTrue\u001B[39;00m:\n\u001B[0;32m---> 29\u001B[0m         msg \u001B[38;5;241m=\u001B[39m \u001B[43mconsumer\u001B[49m\u001B[38;5;241;43m.\u001B[39;49m\u001B[43mpoll\u001B[49m\u001B[43m(\u001B[49m\u001B[38;5;241;43m1.0\u001B[39;49m\u001B[43m)\u001B[49m\n\u001B[1;32m     30\u001B[0m         \u001B[38;5;28;01mif\u001B[39;00m msg \u001B[38;5;129;01mis\u001B[39;00m \u001B[38;5;28;01mNone\u001B[39;00m:\n\u001B[1;32m     31\u001B[0m             \u001B[38;5;28;01mcontinue\u001B[39;00m\n",
      "\u001B[0;31mKeyboardInterrupt\u001B[0m: "
     ]
    }
   ],
   "source": [
    "from confluent_kafka import Consumer, KafkaError\n",
    "from confluent_kafka.schema_registry import SchemaRegistryClient\n",
    "from confluent_kafka.schema_registry.avro import AvroDeserializer\n",
    "from confluent_kafka.serialization import SerializationContext, MessageField\n",
    "\n",
    "# Setup AvroDeserializer with the Schema Registry Client\n",
    "avro_deserializer = AvroDeserializer(SchemaRegistryClient({\n",
    "    'url': SCHEMA_REGISTRY,\n",
    "    'basic.auth.user.info': USERNAME + \":\" + PASSWORD\n",
    "}))\n",
    "\n",
    "# Consumer configuration\n",
    "consumer = Consumer({\n",
    "    'bootstrap.servers': BOOTSTRAP_SERVER,\n",
    "    'sasl.mechanism': 'SCRAM-SHA-256',\n",
    "    'security.protocol': 'SASL_SSL',\n",
    "    'sasl.username': USERNAME,\n",
    "    'sasl.password': PASSWORD,\n",
    "    'group.id': 'default-consumer-group',\n",
    "    'auto.offset.reset': 'earliest'\n",
    "})\n",
    "\n",
    "# Subscribe to the topic\n",
    "consumer.subscribe([\"default-topic\"])\n",
    "\n",
    "# Poll messages from Kafka, deserialize, and handle potential errors\n",
    "try:\n",
    "    while True:\n",
    "        msg = consumer.poll(1.0)\n",
    "        if msg is None:\n",
    "            continue\n",
    "        if msg.error():\n",
    "            if msg.error().code() == KafkaError._PARTITION_EOF:\n",
    "                # End of partition event\n",
    "                continue\n",
    "            else:\n",
    "                print(msg.error())\n",
    "                break\n",
    "\n",
    "        try:\n",
    "            deserialized = avro_deserializer(msg.value(), SerializationContext(msg.topic(), MessageField.VALUE))\n",
    "            if deserialized is not None:\n",
    "                print(f\"Key: {msg.key()}, Value: {deserialized}\")\n",
    "        except Exception as e:\n",
    "            print(f\"Deserialization error for message {msg}: {e}\")\n",
    "finally:\n",
    "    consumer.close()\n"
   ],
   "metadata": {
    "collapsed": false,
    "ExecuteTime": {
     "end_time": "2024-04-07T10:44:56.279598Z",
     "start_time": "2024-04-07T10:39:37.446902Z"
    }
   },
   "id": "2ce79f46d4ec6d46",
   "execution_count": 37
  },
  {
   "cell_type": "markdown",
   "source": [
    "Consumer"
   ],
   "metadata": {
    "collapsed": false
   },
   "id": "7a4d104004c4444c"
  },
  {
   "cell_type": "code",
   "outputs": [],
   "source": [
    "from kafka import KafkaConsumer\n",
    "\n",
    "consumer = KafkaConsumer(\n",
    "    'default-topic',\n",
    "    bootstrap_servers=BOOTSTRAP_SERVER,\n",
    "    sasl_mechanism='SCRAM-SHA-256',\n",
    "    security_protocol='SASL_SSL',\n",
    "    sasl_plain_username=USERNAME,\n",
    "    sasl_plain_password=PASSWORD,\n",
    "    group_id='default-consumer-group',\n",
    "    auto_offset_reset='earliest'\n",
    ")\n",
    "\n",
    "try:\n",
    "    for message in consumer:\n",
    "        print(f\"Received message: {message.value}\")\n",
    "except KeyboardInterrupt:\n",
    "    pass\n",
    "finally:\n",
    "    consumer.close()"
   ],
   "metadata": {
    "collapsed": false
   },
   "id": "b658857e3ade2b11",
   "execution_count": null
  },
  {
   "cell_type": "code",
   "outputs": [],
   "source": [],
   "metadata": {
    "collapsed": false
   },
   "id": "2f2628a654be19fa"
  }
 ],
 "metadata": {
  "kernelspec": {
   "display_name": "Python 3",
   "language": "python",
   "name": "python3"
  },
  "language_info": {
   "codemirror_mode": {
    "name": "ipython",
    "version": 2
   },
   "file_extension": ".py",
   "mimetype": "text/x-python",
   "name": "python",
   "nbconvert_exporter": "python",
   "pygments_lexer": "ipython2",
   "version": "2.7.6"
  }
 },
 "nbformat": 4,
 "nbformat_minor": 5
}
