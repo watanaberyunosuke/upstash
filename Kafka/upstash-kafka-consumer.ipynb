{
 "cells": [
  {
   "cell_type": "code",
   "execution_count": 4,
   "id": "ae1bdbc10230bf4e",
   "metadata": {
    "ExecuteTime": {
     "end_time": "2024-06-16T03:40:57.974852Z",
     "start_time": "2024-06-16T03:40:57.965858Z"
    },
    "collapsed": false
   },
   "outputs": [],
   "source": [
    "from dotenv import load_dotenv\n",
    "import os\n",
    "load_dotenv()\n",
    "\n",
    "SCHEMA_REGISTRY = os.getenv(\"SCHEMA_REGISTRY\")\n",
    "BOOTSTRAP_SERVER = os.getenv(\"BOOTSTRAP_SERVER\")\n",
    "USERNAME = os.getenv(\"USERNAME\")\n",
    "PASSWORD = os.getenv(\"PASSWORD\")\n"
   ]
  },
  {
   "cell_type": "code",
   "execution_count": 5,
   "id": "initial_id",
   "metadata": {
    "ExecuteTime": {
     "end_time": "2024-06-16T03:40:57.983526Z",
     "start_time": "2024-06-16T03:40:57.976271Z"
    },
    "collapsed": true
   },
   "outputs": [
    {
     "data": {
      "text/markdown": [
       "\n",
       "Consumer with schema registry\n"
      ],
      "text/plain": [
       "<IPython.core.display.Markdown object>"
      ]
     },
     "metadata": {},
     "output_type": "display_data"
    }
   ],
   "source": [
    "%%markdown\n",
    "\n",
    "Consumer with schema registry"
   ]
  },
  {
   "cell_type": "code",
   "execution_count": 6,
   "id": "2ce79f46d4ec6d46",
   "metadata": {
    "ExecuteTime": {
     "end_time": "2024-06-16T03:43:42.336498Z",
     "start_time": "2024-06-16T03:40:57.985153Z"
    },
    "collapsed": false
   },
   "outputs": [
    {
     "name": "stdout",
     "output_type": "stream",
     "text": [
      "Key: b'0bcfe6e0-cffe-4f02-8e98-6ca372aee9ba', Value: {'name': 'user', 'favorite_number': 73}\n",
      "Key: b'c605f3db-8358-464e-a37f-a1b59e320659', Value: {'name': 'user', 'favorite_number': 43}\n"
     ]
    },
    {
     "ename": "KeyboardInterrupt",
     "evalue": "",
     "output_type": "error",
     "traceback": [
      "\u001b[0;31m---------------------------------------------------------------------------\u001b[0m",
      "\u001b[0;31mKeyboardInterrupt\u001b[0m                         Traceback (most recent call last)",
      "Cell \u001b[0;32mIn[6], line 29\u001b[0m\n\u001b[1;32m     27\u001b[0m \u001b[38;5;28;01mtry\u001b[39;00m:\n\u001b[1;32m     28\u001b[0m     \u001b[38;5;28;01mwhile\u001b[39;00m \u001b[38;5;28;01mTrue\u001b[39;00m:\n\u001b[0;32m---> 29\u001b[0m         msg \u001b[38;5;241m=\u001b[39m \u001b[43mconsumer\u001b[49m\u001b[38;5;241;43m.\u001b[39;49m\u001b[43mpoll\u001b[49m\u001b[43m(\u001b[49m\u001b[38;5;241;43m1.0\u001b[39;49m\u001b[43m)\u001b[49m\n\u001b[1;32m     30\u001b[0m         \u001b[38;5;28;01mif\u001b[39;00m msg \u001b[38;5;129;01mis\u001b[39;00m \u001b[38;5;28;01mNone\u001b[39;00m:\n\u001b[1;32m     31\u001b[0m             \u001b[38;5;28;01mcontinue\u001b[39;00m\n",
      "\u001b[0;31mKeyboardInterrupt\u001b[0m: "
     ]
    }
   ],
   "source": [
    "from confluent_kafka import Consumer, KafkaError\n",
    "from confluent_kafka.schema_registry import SchemaRegistryClient\n",
    "from confluent_kafka.schema_registry.avro import AvroDeserializer\n",
    "from confluent_kafka.serialization import SerializationContext, MessageField\n",
    "\n",
    "# Setup AvroDeserializer with the Schema Registry Client\n",
    "avro_deserializer = AvroDeserializer(SchemaRegistryClient({\n",
    "    'url': SCHEMA_REGISTRY,\n",
    "    'basic.auth.user.info': USERNAME + \":\" + PASSWORD\n",
    "}))\n",
    "\n",
    "# Consumer configuration\n",
    "consumer = Consumer({\n",
    "    'bootstrap.servers': BOOTSTRAP_SERVER,\n",
    "    'sasl.mechanism': 'SCRAM-SHA-256',\n",
    "    'security.protocol': 'SASL_SSL',\n",
    "    'sasl.username': USERNAME,\n",
    "    'sasl.password': PASSWORD,\n",
    "    'group.id': 'default-consumer-group',\n",
    "    'auto.offset.reset': 'earliest'\n",
    "})\n",
    "\n",
    "# Subscribe to the topic\n",
    "consumer.subscribe([\"default-topic\"])\n",
    "\n",
    "# Poll messages from Kafka, deserialize, and handle potential errors\n",
    "try:\n",
    "    while True:\n",
    "        msg = consumer.poll(1.0)\n",
    "        if msg is None:\n",
    "            continue\n",
    "        if msg.error():\n",
    "            if msg.error().code() == KafkaError._PARTITION_EOF:\n",
    "                # End of partition event\n",
    "                continue\n",
    "            else:\n",
    "                print(msg.error())\n",
    "                break\n",
    "\n",
    "        try:\n",
    "            deserialized = avro_deserializer(msg.value(), SerializationContext(msg.topic(), MessageField.VALUE))\n",
    "            if deserialized is not None:\n",
    "                print(f\"Key: {msg.key()}, Value: {deserialized}\")\n",
    "        except Exception as e:\n",
    "            print(f\"Deserialization error for message {msg}: {e}\")\n",
    "finally:\n",
    "    consumer.close()\n"
   ]
  },
  {
   "cell_type": "markdown",
   "id": "7a4d104004c4444c",
   "metadata": {
    "collapsed": false
   },
   "source": [
    "Consumer"
   ]
  },
  {
   "cell_type": "code",
   "execution_count": null,
   "id": "b658857e3ade2b11",
   "metadata": {
    "ExecuteTime": {
     "end_time": "2024-06-16T03:43:42.337580Z",
     "start_time": "2024-06-16T03:43:42.337509Z"
    },
    "collapsed": false
   },
   "outputs": [],
   "source": [
    "from kafka import KafkaConsumer\n",
    "\n",
    "consumer = KafkaConsumer(\n",
    "    'default-topic',\n",
    "    bootstrap_servers=BOOTSTRAP_SERVER,\n",
    "    sasl_mechanism='SCRAM-SHA-256',\n",
    "    security_protocol='SASL_SSL',\n",
    "    sasl_plain_username=USERNAME,\n",
    "    sasl_plain_password=PASSWORD,\n",
    "    group_id='default-consumer-group',\n",
    "    auto_offset_reset='earliest'\n",
    ")\n",
    "\n",
    "try:\n",
    "    for message in consumer:\n",
    "        print(f\"Received message: {message.value}\")\n",
    "except KeyboardInterrupt:\n",
    "    pass\n",
    "finally:\n",
    "    consumer.close()"
   ]
  },
  {
   "cell_type": "code",
   "execution_count": null,
   "id": "2f2628a654be19fa",
   "metadata": {
    "collapsed": false
   },
   "outputs": [],
   "source": []
  }
 ],
 "metadata": {
  "kernelspec": {
   "display_name": "Python 3",
   "language": "python",
   "name": "python3"
  },
  "language_info": {
   "codemirror_mode": {
    "name": "ipython",
    "version": 3
   },
   "file_extension": ".py",
   "mimetype": "text/x-python",
   "name": "python",
   "nbconvert_exporter": "python",
   "pygments_lexer": "ipython3",
   "version": "3.9.0"
  }
 },
 "nbformat": 4,
 "nbformat_minor": 5
}
